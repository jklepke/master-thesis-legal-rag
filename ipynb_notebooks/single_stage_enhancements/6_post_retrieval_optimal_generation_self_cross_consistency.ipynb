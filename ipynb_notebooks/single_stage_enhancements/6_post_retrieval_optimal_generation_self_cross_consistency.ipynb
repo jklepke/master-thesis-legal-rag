{
 "cells": [
  {
   "cell_type": "markdown",
   "id": "8950f38c",
   "metadata": {},
   "source": [
    "# Implementation, Testing and Evaluation of Self- and Cross-Consistency in RAG\n",
    "\n",
    "#### Notebook Outline\n",
    "1. Imports and Configurations\n",
    "2. Creation of Vector Database\n",
    "3. Querying the Vector Database\n",
    "4. Output of RAG Experiments\n",
    "5. Evaluations\n",
    "\n",
    "This notebook uses functions from the Baseline RAG .ipynb file and adapts these."
   ]
  },
  {
   "cell_type": "markdown",
   "id": "cf953c54",
   "metadata": {},
   "source": [
    "### 1. Imports and Configurations"
   ]
  },
  {
   "cell_type": "markdown",
   "id": "242d8aa3",
   "metadata": {},
   "source": [
    "Imports"
   ]
  },
  {
   "cell_type": "code",
   "execution_count": 1,
   "id": "29b84ce4",
   "metadata": {},
   "outputs": [
    {
     "name": "stderr",
     "output_type": "stream",
     "text": [
      "c:\\Users\\jonas\\Documents\\LEGAL-RAG\\.venv\\lib\\site-packages\\tqdm\\auto.py:21: TqdmWarning: IProgress not found. Please update jupyter and ipywidgets. See https://ipywidgets.readthedocs.io/en/stable/user_install.html\n",
      "  from .autonotebook import tqdm as notebook_tqdm\n",
      "USER_AGENT environment variable not set, consider setting it to identify your requests.\n",
      "[nltk_data] Downloading package punkt to\n",
      "[nltk_data]     C:\\Users\\jonas\\AppData\\Roaming\\nltk_data...\n",
      "[nltk_data]   Package punkt is already up-to-date!\n",
      "[nltk_data] Downloading package wordnet to\n",
      "[nltk_data]     C:\\Users\\jonas\\AppData\\Roaming\\nltk_data...\n",
      "[nltk_data]   Package wordnet is already up-to-date!\n",
      "c:\\Users\\jonas\\Documents\\LEGAL-RAG\\ipynb_notebooks\\evaluation_datasets\\generation_eval\\generation_metrics.py:56: LangChainDeprecationWarning: The class `OpenAIEmbeddings` was deprecated in LangChain 0.0.9 and will be removed in 1.0. An updated version of the class exists in the :class:`~langchain-openai package and should be used instead. To use it run `pip install -U :class:`~langchain-openai` and import as `from :class:`~langchain_openai import OpenAIEmbeddings``.\n",
      "  embedding_model = OpenAIEmbeddings()\n"
     ]
    }
   ],
   "source": [
    "# === Standard Library Imports ===\n",
    "import json\n",
    "import os\n",
    "import sys\n",
    "import time\n",
    "from urllib.request import urlopen\n",
    "from typing import List, Optional\n",
    "\n",
    "# === Scientific and Visualization Libraries ===\n",
    "import numpy as np\n",
    "import matplotlib.pyplot as plt\n",
    "import seaborn as sns\n",
    "from tqdm import tqdm, trange\n",
    "from sklearn.metrics.pairwise import cosine_similarity\n",
    "\n",
    "# === Environment Management ===\n",
    "from dotenv import load_dotenv\n",
    "\n",
    "# === Language Detection ===\n",
    "from langdetect import detect\n",
    "\n",
    "# === Hugging Face and Transformers ===\n",
    "from transformers import pipeline \n",
    "from huggingface_hub import login\n",
    "\n",
    "# === LangChain Core and Extensions ===\n",
    "from langchain.embeddings import OpenAIEmbeddings\n",
    "\n",
    "# === OpenAI and Other LLM APIs ===\n",
    "import openai\n",
    "from openai import OpenAI\n",
    "from together import Together\n",
    "import google.generativeai as gemini\n",
    "from google.generativeai.types import GenerationConfig\n",
    "\n",
    "# === Project Root Configuration ===\n",
    "project_root = os.path.abspath(os.path.join(os.getcwd(), '..', '..'))\n",
    "if project_root not in sys.path:\n",
    "    sys.path.append(project_root)\n",
    "\n",
    "# === Custom Project Modules ===\n",
    "from ipynb_notebooks.single_stage_enhancements.rankGPT_rerank import rankgpt_rerank\n",
    "\n",
    "from ipynb_notebooks.baseline.rag_utils.baseline_rag import (\n",
    "    load_vector_database,\n",
    "    retrieve_documents,\n",
    "    generate_answer,\n",
    ")\n",
    "\n",
    "from ipynb_notebooks.evaluation_datasets.retrieval_eval.eval_vector_dataset_generator import generate_evalset\n",
    "from ipynb_notebooks.evaluation_datasets.retrieval_eval.retrieval_metrics import run_retrieval_evaluation\n",
    "from ipynb_notebooks.evaluation_datasets.generation_eval.generation_metrics import run_generation_evaluation\n"
   ]
  },
  {
   "cell_type": "markdown",
   "id": "3c91f6b3",
   "metadata": {},
   "source": [
    "Configurations"
   ]
  },
  {
   "cell_type": "code",
   "execution_count": 2,
   "id": "2d752781",
   "metadata": {},
   "outputs": [],
   "source": [
    "# Load environment variables. Assumes that the project directory contains a .env file with API keys\n",
    "load_dotenv()\n",
    "\n",
    "# Set the OpenAI API key from the environment variables\n",
    "# Make sure to update \"OPENAI_API_KEY\" to match the variable name in your .env file\n",
    "openai.api_key = os.environ['OPENAI_API_KEY']\n",
    "client = OpenAI(api_key=openai.api_key)\n",
    "embedding_model = OpenAIEmbeddings()\n",
    "\n",
    "# Configure Google Gemini API\n",
    "gemini_api_key = os.getenv(\"GEMINI_API_KEY\")\n",
    "gemini.configure(api_key=gemini_api_key)\n",
    "\n",
    "# Configuration of HuggingFace API\n",
    "hugging_face_api_key=os.getenv(\"HUGGING_FACE_API_KEY\")\n",
    "login(token=hugging_face_api_key)\n",
    "\n",
    "# Configure Together API for model calls\n",
    "together_api_key = os.getenv(\"TOGETHER_API_KEY\")\n",
    "os.environ[\"TOGETHER_API_KEY\"] = together_api_key\n",
    "together_client = Together()\n",
    "\n",
    "# Configuration of cohere API\n",
    "cohere_api_key = os.getenv(\"COHERE_API_KEY\")\n",
    "\n",
    "# Define constants for paths\n",
    "DATA_PATH = \"../../data/laws_and_ordinances.json\"  # Directory containing the url to the law and ordinance documents\n",
    "DATA_PATH_SHORT_VERSION = \"../../data/laws_and_ordinances_short_version.json\" # Directory containing a subset of all urls for testing purposes\n",
    "CHROMA_PATH = \"chroma_dbs/chroma\"  # Directory to save the Chroma vector store"
   ]
  },
  {
   "cell_type": "markdown",
   "id": "72dd2571",
   "metadata": {},
   "source": [
    "### 2. Creation of Vector Databases\n",
    "\n",
    "**Why Creating Separate Chroma Databases for Each Retrieval Process Is Not Necessary**\n",
    "\n",
    "In contrast to chunking experiments, evaluating different retrieval strategies does not require generating separate Chroma vector databases. This is because all strategies operate over the same underlying document corpus and embeddings. Retrieval processes such as iterative, recursive or adaptive approaches differ only in how they search the embedded documents—not in how the documents are chunked or stored.\n",
    "\n",
    "As long as the Chroma DB is generated using a consistent chunking strategy and embedding model, it provides a shared semantic space that is sufficient for fair comparison across retrieval methods. Creating separate vector stores per strategy would introduce unnecessary redundancy and would not improve the validity of the evaluation."
   ]
  },
  {
   "cell_type": "code",
   "execution_count": 3,
   "id": "e7eb2800",
   "metadata": {},
   "outputs": [],
   "source": [
    "chroma_db_self_and_cross_consistency = \"../chroma_dbs/chroma_chunksize1024_overlap128_c800ccc6_self_cross_consistency\""
   ]
  },
  {
   "cell_type": "markdown",
   "id": "7fef0203",
   "metadata": {},
   "source": [
    "### 3. Post-Retrieval Optimization: Self and Cross Consistency"
   ]
  },
  {
   "cell_type": "markdown",
   "id": "b5605596",
   "metadata": {},
   "source": [
    "#### 3.1 Self-Consistency"
   ]
  },
  {
   "cell_type": "code",
   "execution_count": 4,
   "id": "7bd27ac8",
   "metadata": {},
   "outputs": [],
   "source": [
    "def select_most_consistent_answer(answers):\n",
    "    embeddings = embedding_model.embed_documents(texts=answers)\n",
    "    similarity_matrix = cosine_similarity(embeddings)\n",
    "    avg_sim = similarity_matrix.mean(axis=1)\n",
    "    best_index = int(np.argmax(avg_sim))\n",
    "    return answers[best_index], avg_sim, similarity_matrix"
   ]
  },
  {
   "cell_type": "code",
   "execution_count": 5,
   "id": "ccfe3f1b",
   "metadata": {},
   "outputs": [],
   "source": [
    "def plot_answer_similarity_heatmap(\n",
    "    answers: list[str],\n",
    "    labels: list[str] = None,\n",
    "    similarity_matrix: Optional[np.ndarray] = None,\n",
    "    avg_similarities: Optional[np.ndarray] = None,\n",
    "    title: str = \"LLM Answer Similarity\"\n",
    "):\n",
    "\n",
    "    if similarity_matrix is None:\n",
    "        from sentence_transformers import SentenceTransformer\n",
    "        from sklearn.metrics.pairwise import cosine_similarity\n",
    "        model = SentenceTransformer(\"all-MiniLM-L6-v2\")\n",
    "        embeddings = model.encode(answers)\n",
    "        similarity_matrix = cosine_similarity(embeddings)\n",
    "\n",
    "    if labels is None:\n",
    "        labels = [f\"Model {i+1}\" for i in range(len(answers))]\n",
    "\n",
    "    if avg_similarities is not None:\n",
    "        annotated_labels = [\n",
    "            f\"{name}\\nØ={avg:.4f}\" for name, avg in zip(labels, avg_similarities)\n",
    "        ]\n",
    "    else:\n",
    "        annotated_labels = labels\n",
    "\n",
    "    # Plot\n",
    "    plt.figure(figsize=(9, 7))\n",
    "    sns.heatmap(\n",
    "        similarity_matrix,\n",
    "        annot=True,\n",
    "        fmt=\".4f\",\n",
    "        cmap=\"Blues\",\n",
    "        xticklabels=labels,\n",
    "        yticklabels=annotated_labels,\n",
    "        square=True,\n",
    "        cbar=True\n",
    "    )\n",
    "    plt.title(title)\n",
    "    plt.xlabel(\"LLM Answer\")\n",
    "    plt.ylabel(\"LLM Answer\")\n",
    "    plt.tight_layout()\n",
    "    plt.show()\n",
    "\n",
    "    return similarity_matrix"
   ]
  },
  {
   "cell_type": "code",
   "execution_count": 6,
   "id": "1476762a",
   "metadata": {},
   "outputs": [],
   "source": [
    "def rag_pipeline_self_consistency(query, database, model_name=\"gpt-4o-mini\", n=5, temperature=0.7, heatmap: bool = False):\n",
    "    \"\"\"\n",
    "    RAG-Pipeline mit eingebauter Self-Consistency über n generierte Antworten.\n",
    "    \"\"\"\n",
    "    results_tuple = retrieve_documents(query, db=database)\n",
    "    \n",
    "    results = [result for result, _ in results_tuple]\n",
    "\n",
    "    sources = [doc.metadata.get(\"source\") for doc in results]\n",
    "    retrieved_chunk_contexts = [doc.page_content for doc in results]\n",
    "    retrieved_chunk_ids = [doc.metadata.get(\"chunk_id\") for doc in results]\n",
    "    retrieved_chunk_indices = [doc.metadata.get(\"chunk_index\") for doc in results]\n",
    "\n",
    "    answers = []\n",
    "    for i in range(n):\n",
    "        try:\n",
    "            answer = generate_answer(results, query, model_name=model_name, temperature=temperature)\n",
    "            answers.append(answer)\n",
    "        except Exception as e:\n",
    "            print(f\"Fehler bei Generation {i+1}: {e}\")\n",
    "            answers.append(\"\")\n",
    "\n",
    "        time.sleep(0.5) \n",
    "\n",
    "    final_answer, similarities, similarity_matrix = select_most_consistent_answer(answers)\n",
    "    \n",
    "    if heatmap:\n",
    "\n",
    "        print(\"\\n--- Self-Consistency Antworten ---\")\n",
    "        for i, a in enumerate(answers):\n",
    "            print(f\"[{i+1}] ({similarities[i]:.4f}): {a}\")\n",
    "\n",
    "        print(\"\\n--- Finale Antwort ---\")\n",
    "        print(final_answer)\n",
    "        \n",
    "        answer_labels = [f\"Answer {i}\" for i in range(1, n + 1)]\n",
    "        plot_answer_similarity_heatmap(answers=answers, labels=answer_labels, similarity_matrix=similarity_matrix, avg_similarities=similarities)\n",
    "\n",
    "    return final_answer, sources, retrieved_chunk_contexts, retrieved_chunk_ids, retrieved_chunk_indices"
   ]
  },
  {
   "cell_type": "code",
   "execution_count": 7,
   "id": "575f1e7e",
   "metadata": {},
   "outputs": [
    {
     "name": "stderr",
     "output_type": "stream",
     "text": [
      "c:\\Users\\jonas\\Documents\\LEGAL-RAG\\ipynb_notebooks\\baseline\\rag_utils\\baseline_rag.py:303: LangChainDeprecationWarning: The class `Chroma` was deprecated in LangChain 0.2.9 and will be removed in 1.0. An updated version of the class exists in the :class:`~langchain-chroma package and should be used instead. To use it run `pip install -U :class:`~langchain-chroma` and import as `from :class:`~langchain_chroma import Chroma``.\n",
      "  db = Chroma(persist_directory=chroma_path, embedding_function=embedding_function)\n",
      "c:\\Users\\jonas\\Documents\\LEGAL-RAG\\ipynb_notebooks\\baseline\\rag_utils\\baseline_rag.py:339: LangChainDeprecationWarning: The method `BaseChatModel.predict` was deprecated in langchain-core 0.1.7 and will be removed in 1.0. Use :meth:`~invoke` instead.\n",
      "  response_text = model.predict(prompt)\n"
     ]
    },
    {
     "name": "stdout",
     "output_type": "stream",
     "text": [
      "\n",
      "--- Self-Consistency Antworten ---\n",
      "[1] (0.9895): § 1 des Elektromobilitätsgesetzes (EmoG) definiert das Ziel des Gesetzes, welches die Förderung einer nachhaltigen und treibhausgasneutralen Stromversorgung in Deutschland zum Inhalt hat. Der Anwendungsbereich umfasst Maßnahmen zur Erhöhung des Anteils von Strom aus erneuerbaren Energien am Bruttostromverbrauch. Bis 2030 soll dieser Anteil auf mindestens 80 Prozent gesteigert werden. Des Weiteren wird ein stetiger, kosteneffizienter und umweltverträglicher Ausbau der erneuerbaren Energien angestrebt, um die Klimaziele zu erreichen. Dies schließt auch die Notwendigkeit ein, dass der Ausbau netzverträglich erfolgt.\n",
      "[2] (0.9879): § 1 des Elektromobilitätsgesetzes (EmoG) legt die Zielsetzung des Gesetzes fest, die auf die Transformation zu einer nachhaltigen und treibhausgasneutralen Stromversorgung abzielt. Der Anwendungsbereich umfasst insbesondere die Erhöhung des Anteils an aus erneuerbaren Energien erzeugtem Strom im Bruttostromverbrauch auf mindestens 80 Prozent bis zum Jahr 2030. Zudem wird darauf geachtet, dass der Ausbau der erneuerbaren Energien stetig, kosteneffizient und umweltverträglich erfolgt. Der Gesetzestext betont die Wichtigkeit der erneuerbaren Energien für den Klima- und Umweltschutz und legt einen klaren Rahmen für deren Integration in die Stromversorgung im gesamten Bundesgebiet fest.\n",
      "[3] (0.9850): Der Anwendungsbereich des § 1 des Elektromobilitätsgesetzes (EmoG) umfasst die Förderung der Elektromobilität in Deutschland. Das Gesetz hat das Ziel, die Transformation zu einer nachhaltigen und treibhausgasneutralen Stromversorgung zu unterstützen, die vollständig auf erneuerbaren Energien basiert. Konkret wird angestrebt, den Anteil des aus erneuerbaren Energien erzeugten Stroms am Bruttostromverbrauch im Bundesgebiet bis 2030 auf mindestens 80 Prozent zu steigern. Der Ausbau der erneuerbaren Energien soll dabei stetig, kosteneffizient und umweltverträglich erfolgen. Diese Regelungen sollen dazu beitragen, die Klimaziele zu erreichen und die Elektromobilität als Teil der Energiewende zu fördern.\n",
      "[4] (0.9881): § 1 des Elektromobilitätsgesetzes (EmoG) definiert das Ziel des Gesetzes, das die Transformation zu einer nachhaltigen und treibhausgasneutralen Stromversorgung in Deutschland zum Inhalt hat. Dieser Anwendungsbereich umfasst die Förderung der Nutzung erneuerbarer Energien mit dem Ziel, deren Anteil am Bruttostromverbrauch bis 2030 auf mindestens 80 Prozent zu steigern. Zudem wird darauf abgezielt, dass der Ausbau erneuerbarer Energien stetig, kosteneffizient und umweltverträglich erfolgt. Der Paragraph legt somit die grundlegenden Zielsetzungen für die Entwicklung und Integration erneuerbarer Energien in die deutsche Energieversorgung fest.\n",
      "[5] (0.9890): § 1 des Elektromobilitätsgesetzes (EmoG) umfasst die Zielsetzung zur Förderung der Elektromobilität in Deutschland. Es strebt eine nachhaltige und treibhausgasneutrale Stromversorgung an, die vollständig auf erneuerbaren Energien basiert. Der Anwendungsbereich erstreckt sich auf Maßnahmen zur Erhöhung des Anteils von Strom aus erneuerbaren Energien am Bruttostromverbrauch, mit dem Ziel, diesen Anteil bis 2030 auf mindestens 80 % zu steigern. Zudem wird der erforderliche Ausbau der erneuerbaren Energien als stetig, kosteneffizient und umweltverträglich definiert. Der Fokus liegt auf der Transformierung des Energiesektors, um die Klimaziele zu erreichen und den Übergang zu einem emissionsfreien Verkehrssystem zu unterstützen.\n",
      "\n",
      "--- Finale Antwort ---\n",
      "§ 1 des Elektromobilitätsgesetzes (EmoG) definiert das Ziel des Gesetzes, welches die Förderung einer nachhaltigen und treibhausgasneutralen Stromversorgung in Deutschland zum Inhalt hat. Der Anwendungsbereich umfasst Maßnahmen zur Erhöhung des Anteils von Strom aus erneuerbaren Energien am Bruttostromverbrauch. Bis 2030 soll dieser Anteil auf mindestens 80 Prozent gesteigert werden. Des Weiteren wird ein stetiger, kosteneffizienter und umweltverträglicher Ausbau der erneuerbaren Energien angestrebt, um die Klimaziele zu erreichen. Dies schließt auch die Notwendigkeit ein, dass der Ausbau netzverträglich erfolgt.\n"
     ]
    },
    {
     "data": {
      "image/png": "[encoded data removed]",
      "text/plain": [
       "<Figure size 900x700 with 2 Axes>"
      ]
     },
     "metadata": {},
     "output_type": "display_data"
    }
   ],
   "source": [
    "query = \"Welchen Anwendungsbereich umfasst §1 des Elektromobilitätsgesetzes - (EmoG)?\"\n",
    "database = load_vector_database(chroma_path=chroma_db_self_and_cross_consistency)\n",
    "model_name = \"gpt-4o-mini\"  # or any other supported model\n",
    "\n",
    "response, sources, retrieved_chunk_contexts, retrieved_chunk_ids, retrieved_chunk_indices = rag_pipeline_self_consistency(query=query, \n",
    "                                                                                                                        database=database,\n",
    "                                                                                                                        heatmap=True)"
   ]
  },
  {
   "cell_type": "markdown",
   "id": "af70b1cb",
   "metadata": {},
   "source": [
    "#### 3.2 Cross-Consistency"
   ]
  },
  {
   "cell_type": "code",
   "execution_count": 8,
   "id": "0cc53dd6",
   "metadata": {},
   "outputs": [],
   "source": [
    "def generate_with_gpt(query: str, docs: List[str], model_name=\"gpt-4o-mini\", temperature=0.2):\n",
    "    \n",
    "    response = generate_answer(docs, query, model_name=model_name, temperature=temperature)\n",
    "    \n",
    "    return response"
   ]
  },
  {
   "cell_type": "code",
   "execution_count": 9,
   "id": "177c8837",
   "metadata": {},
   "outputs": [],
   "source": [
    "generation_config = GenerationConfig(\n",
    "    temperature=0.2,    \n",
    "    top_p=1.0,\n",
    "    top_k=40,\n",
    "    max_output_tokens=256\n",
    ")\n",
    "\n",
    "\n",
    "def generate_with_gemini(query: str, docs: list[str]) -> str:\n",
    "    \n",
    "    docs_content = [doc.page_content for doc in docs]\n",
    "    \n",
    "    context = \"\\n\".join(docs_content)\n",
    "    prompt = f\"\"\"\n",
    "                Du bist ein juristisch präziser Assistent. Antworte vollständig und korrekt auf folgende Frage auf Basis des Kontexts.\n",
    "\n",
    "                Kontext:\n",
    "                {context}\n",
    "\n",
    "                Frage:\n",
    "                {query}\n",
    "                \"\"\"\n",
    "    model = gemini.GenerativeModel(model_name = \"gemini-1.5-flash-002\", generation_config=generation_config)\n",
    "    response = model.generate_content(prompt)\n",
    "    return response.text.strip()"
   ]
  },
  {
   "cell_type": "code",
   "execution_count": 10,
   "id": "f3aa2ac9",
   "metadata": {},
   "outputs": [],
   "source": [
    "def generate_with_together(query: str, docs: list[str], provider: str = \"meta\") -> str:\n",
    "    \n",
    "    if provider==\"meta\":\n",
    "        model = \"meta-llama/Llama-3.3-70B-Instruct-Turbo-Free\"\n",
    "    elif provider==\"deepseek\":\n",
    "        model = \"deepseek-ai/DeepSeek-R1-Distill-Llama-70B-free\"\n",
    "    \n",
    "    context = \"\\n\".join([doc.page_content for doc in docs])\n",
    "\n",
    "    prompt = f\"\"\"\n",
    "    Du bist ein juristisch präziser Assistent. Antworte vollständig und korrekt auf folgende Frage auf Basis des Kontexts.\n",
    "    \n",
    "    Kontext:\n",
    "    {context}\n",
    "    \n",
    "    Frage:\n",
    "    {query}\n",
    "    \"\"\"\n",
    "\n",
    "    try:\n",
    "\n",
    "        response = together_client.chat.completions.create(\n",
    "            model=model,\n",
    "            messages=[\n",
    "                {\"role\": \"user\", \"content\": prompt}\n",
    "            ],\n",
    "            temperature=0.2,\n",
    "            max_tokens=200,\n",
    "        )\n",
    "\n",
    "        return response.choices[0].message.content.strip()\n",
    "\n",
    "    except Exception as e:\n",
    "        print(f\"❌ Fehler bei Together API: {e}\")\n",
    "        return \"Fehler bei der Antwortgenerierung durch Together.\"\n"
   ]
  },
  {
   "cell_type": "code",
   "execution_count": 11,
   "id": "dbc19790",
   "metadata": {},
   "outputs": [
    {
     "name": "stderr",
     "output_type": "stream",
     "text": [
      "Device set to use cpu\n"
     ]
    }
   ],
   "source": [
    "flan_t5_large_pipe = pipeline(\"text2text-generation\", model=\"google/flan-t5-large\")\n",
    "\n",
    "def generate_with_flan_t5_large(query: str, docs: list, max_new_tokens: int = 200) -> str:\n",
    " \n",
    "    if not docs:\n",
    "        return \"❌ No documents retrieved.\"\n",
    "\n",
    "    # Use only the first chunk to avoid token limit issues\n",
    "    context = docs[0].page_content\n",
    "\n",
    "    prompt = (\n",
    "        \"Answer the following legal question based on the provided context. \"\n",
    "        \"Give a detailed answer in 2–4 sentences.\\n\\n\"\n",
    "        f\"Context:\\n{context}\\n\\n\"\n",
    "        f\"Question:\\n{query}\"\n",
    "        \"Answer in the language of the question\"\n",
    "    )\n",
    "\n",
    "    try:\n",
    "        result = flan_t5_large_pipe(prompt, max_new_tokens=max_new_tokens, clean_up_tokenization_spaces=True)\n",
    "        return result[0]['generated_text'].strip()\n",
    "    except Exception as e:\n",
    "        print(f\"❌ Flan-T5-Large Error: {e}\")\n",
    "        return \"Flan-T5-Large konnte keine Antwort generieren.\"\n"
   ]
  },
  {
   "cell_type": "code",
   "execution_count": 12,
   "id": "0f3f962a",
   "metadata": {},
   "outputs": [],
   "source": [
    "def rag_pipeline_cross_consistency(query, database, heatmap: bool = False):\n",
    "    \n",
    "    results_tuple = retrieve_documents(query, db=database)\n",
    "    results = [result for result, _ in results_tuple]\n",
    "\n",
    "    sources = [doc.metadata.get(\"source\") for doc in results]\n",
    "    retrieved_chunk_contexts = [doc.page_content for doc in results]\n",
    "    retrieved_chunk_ids = [doc.metadata.get(\"chunk_id\") for doc in results]\n",
    "    retrieved_chunk_indices = [doc.metadata.get(\"chunk_index\") for doc in results]\n",
    "\n",
    "    models = [\n",
    "        (\"GPT-4o-mini\", generate_with_gpt),\n",
    "        (\"Gemini-1.5-flash-002\", generate_with_gemini),\n",
    "        (\"Llama-3.3-70B-Instruct\", lambda q, r: generate_with_together(q, r, provider=\"meta\")),\n",
    "        (\"DeepSeek-R1-Distill-Llama-70B\", lambda q, r: generate_with_together(q, r, provider=\"deepseek\")),\n",
    "        (\"Flan-T5-Large\", generate_with_flan_t5_large)\n",
    "    ]\n",
    "\n",
    "    answers = []\n",
    "    model_names = []\n",
    "\n",
    "    for name, func in models:\n",
    "        try:\n",
    "            answer = func(query, results)\n",
    "            answers.append(answer)\n",
    "        except Exception as e:\n",
    "            print(f\"❌ Error in {name}: {e}\")\n",
    "            answers.append(\"\")\n",
    "        model_names.append(name)\n",
    "        time.sleep(0.5) \n",
    "\n",
    "    final_answer, similarities, similarity_matrix = select_most_consistent_answer(answers)\n",
    "    \n",
    "    if heatmap:\n",
    "        print(\"\\n--- Cross-Consistency Answers ---\")\n",
    "        for i, (name, answer) in enumerate(zip(model_names, answers)):\n",
    "            sim_str = f\"({similarities[i]:.4f})\" if similarities[i] is not None else \"\"\n",
    "            print(f\"[{i+1}] {name} {sim_str}: {answer}\")\n",
    "\n",
    "        print(\"\\n--- Final Answer ---\")\n",
    "        print(final_answer)\n",
    "        \n",
    "        plot_answer_similarity_heatmap(answers=answers, labels=model_names, similarity_matrix=similarity_matrix, avg_similarities=similarities)\n",
    "\n",
    "    return final_answer, sources, retrieved_chunk_contexts, retrieved_chunk_ids, retrieved_chunk_indices"
   ]
  },
  {
   "cell_type": "code",
   "execution_count": 13,
   "id": "854a88d2",
   "metadata": {},
   "outputs": [
    {
     "name": "stderr",
     "output_type": "stream",
     "text": [
      "Token indices sequence length is longer than the specified maximum sequence length for this model (1141 > 512). Running this sequence through the model will result in indexing errors\n"
     ]
    },
    {
     "name": "stdout",
     "output_type": "stream",
     "text": [
      "\n",
      "--- Cross-Consistency Answers ---\n",
      "[1] GPT-4o-mini (0.9093): § 1 des Elektromobilitätsgesetzes (EmoG) legt das Ziel des Gesetzes fest, das insbesondere den Klima- und Umweltschutz fördert. Es strebt eine nachhaltige und treibhausgasneutrale Stromversorgung an, die vollständig auf erneuerbaren Energien basiert. Der Anwendungsbereich umfasst die Verpflichtung, den Anteil des aus erneuerbaren Energien erzeugten Stroms am Bruttostromverbrauch in Deutschland bis 2030 auf mindestens 80 Prozent zu steigern. Zudem wird der Ausbau der erneuerbaren Energien als stetig, kosteneffizient, umweltverträglich und netzverträglich definiert. Diese Bestimmungen sind entscheidend für die Transformation des Energiesystems in Deutschland und unterstützen die Erreichung der Klimaziele.\n",
      "[2] Gemini-1.5-flash-002 (0.9001): Die bereitgestellte Textmenge enthält keinen Gesetzestext zum Elektromobilitätsgesetz (EmoG).  Daher kann die Frage nach dem Anwendungsbereich von §1 des EmoG auf Basis des gegebenen Kontextes nicht beantwortet werden.\n",
      "[3] Llama-3.3-70B-Instruct (0.9154): Das Elektromobilitätsgesetz (EmoG) selbst ist nicht explizit im bereitgestellten Text erwähnt, aber es gibt einen Hinweis auf § 2 Nummer 8, der die Elektromobilität betrifft, im Rahmen des § 11, der Ermächtigungen für das Bundesministerium der Finanzen zur Durchführung eines Gesetzes enthält, das nicht direkt als EmoG bezeichnet wird, aber Regelungen zur Elektromobilität umfasst.\n",
      "\n",
      "Basierend auf dem bereitgestellten Kontext, insbesondere unter § 11, Absatz 3, Buchstabe c, wird die Elektromobilität im Zusammenhang mit der Leistung von Strom an elektrisch betriebene Fahrzeuge und der Entnahme von Strom durch diese Fahrzeuge erwähnt. Hierbei geht es um die Regelung von Steuern,\n",
      "[4] DeepSeek-R1-Distill-Llama-70B (0.9031): <think>\n",
      "Okay, ich muss die Frage beantworten: \"Welchen Anwendungsbereich umfasst §1 des Elektromobilitätsgesetzes - (EmoG)?\" Zunächst fällt mir auf, dass der Benutzer möglicherweise eine Verwechslung mit einem anderen Gesetz hat, da im Kontext, den er gegeben hat, das EmoG nicht erwähnt wird. Der Kontext bezieht sich hauptsächlich auf das Erneuerbare-Energien-Gesetz (EEG) und das Gebäudeenergiegesetz (GEG). \n",
      "\n",
      "Ich erinnere mich, dass das Elektromobilitätsgesetz, oft als EmoG abgekürzt, in Deutschland existiert, aber es ist nicht im gegebenen Kontext enthalten. Das EmoG regelt vor allem die Nutzung von Strom für electromobile Fahrzeuge und die\n",
      "[5] Flan-T5-Large (0.8546): ordnungsermächtigung zu Herkunftsnachweisen und regionalnachweisen 93Verordnungsermächtigung zu Anforderungen an Grünen Wasserstoff 94Verordnungsermächtigung zu systemdienlichem Anlagenbetrieb 95Weitere Verordnungsermächtigungen 96Gemeinsame BestimmungenAbschnitt 2Kooperationsausschuss, Monitoring, Berichte 97Kooperationsausschuss 98Jährliches Monitoring zur Zielerreichung 99Erfahrungsbericht 99aFortschrittsbericht Windenergie an Land 99bBericht zur BürgerenergieAbschnitt 3Schlussbestimmungen 100Übergangsbestimmungen 101Beihilferechtlicher Genehmigungsvorbehalt Anlagen\n",
      "\n",
      "--- Final Answer ---\n",
      "Das Elektromobilitätsgesetz (EmoG) selbst ist nicht explizit im bereitgestellten Text erwähnt, aber es gibt einen Hinweis auf § 2 Nummer 8, der die Elektromobilität betrifft, im Rahmen des § 11, der Ermächtigungen für das Bundesministerium der Finanzen zur Durchführung eines Gesetzes enthält, das nicht direkt als EmoG bezeichnet wird, aber Regelungen zur Elektromobilität umfasst.\n",
      "\n",
      "Basierend auf dem bereitgestellten Kontext, insbesondere unter § 11, Absatz 3, Buchstabe c, wird die Elektromobilität im Zusammenhang mit der Leistung von Strom an elektrisch betriebene Fahrzeuge und der Entnahme von Strom durch diese Fahrzeuge erwähnt. Hierbei geht es um die Regelung von Steuern,\n"
     ]
    },
    {
     "data": {
      "image/png": "[encoded data removed]",
      "text/plain": [
       "<Figure size 900x700 with 2 Axes>"
      ]
     },
     "metadata": {},
     "output_type": "display_data"
    }
   ],
   "source": [
    "query = \"Welchen Anwendungsbereich umfasst §1 des Elektromobilitätsgesetzes - (EmoG)?\"\n",
    "database = load_vector_database(chroma_path=chroma_db_self_and_cross_consistency)\n",
    "model_name = \"gpt-4o-mini\"  # or any other supported model\n",
    "\n",
    "response, sources, retrieved_chunk_contexts, retrieved_chunk_ids, retrieved_chunk_indices = rag_pipeline_cross_consistency(query=query, \n",
    "                                                                                                                        database=database,\n",
    "                                                                                                                        heatmap=True)"
   ]
  },
  {
   "cell_type": "markdown",
   "id": "a9ce0cc8",
   "metadata": {},
   "source": [
    "### 4. Evaluations"
   ]
  },
  {
   "cell_type": "markdown",
   "id": "e13d2261",
   "metadata": {},
   "source": [
    "#### 4.1 Preparing the Evaluation Dataset\n",
    "\n",
    "Since no new Chroma DB had to be created, the evaluation data set from the RAG baseline can also be reused. The data set was copied and renamed to ensure completeness."
   ]
  },
  {
   "cell_type": "code",
   "execution_count": 14,
   "id": "7af28696",
   "metadata": {},
   "outputs": [],
   "source": [
    "eval_dataset_self_and_cross_consistency = \"eval_datasets/6_self_cross_consistency/artificial_evaluation_dataset_for_chroma_chunksize1024_overlap128_c800ccc6_self_cross_consistency.json\""
   ]
  },
  {
   "cell_type": "markdown",
   "id": "c302d910",
   "metadata": {},
   "source": [
    "#### 4.2 Enrich Evaluation Datasets with Responses"
   ]
  },
  {
   "cell_type": "code",
   "execution_count": 15,
   "id": "21791636",
   "metadata": {},
   "outputs": [],
   "source": [
    "def enrich_eval_dataset_with_rag_responses_consistency(\n",
    "    eval_dataset: str,\n",
    "    chroma_path: str,\n",
    "    consistency_type: str = \"self\",  # \"self\" oder \"cross\"\n",
    "    model_name: str = \"gpt-4o-mini\"\n",
    "):\n",
    "    \n",
    "    db = load_vector_database(chroma_path)\n",
    "\n",
    "    with open(eval_dataset, \"r\", encoding=\"utf-8\") as f:\n",
    "        eval_dataset_json = json.load(f)\n",
    "\n",
    "    enriched_dataset = []\n",
    "\n",
    "    for i, entry in enumerate(tqdm(eval_dataset_json, desc=\"Generating consistent RAG responses\")):\n",
    "        query = entry[\"query\"]\n",
    "\n",
    "        # Choose pipeline\n",
    "        if consistency_type == \"self\":\n",
    "            response, _, retrieved_chunk_contexts, retrieved_chunk_ids, retrieved_chunk_indices = rag_pipeline_self_consistency(\n",
    "                query=query,\n",
    "                database=db,\n",
    "                model_name=model_name,\n",
    "                n=5  # Amount of samples for self-consistency\n",
    "            )\n",
    "        elif consistency_type == \"cross\":\n",
    "            response, _, retrieved_chunk_contexts, retrieved_chunk_ids, retrieved_chunk_indices = rag_pipeline_cross_consistency(\n",
    "                query=query,\n",
    "                database=db\n",
    "            )\n",
    "        else:\n",
    "            raise ValueError(\"consistency_type must be either 'self' or 'cross'\")\n",
    "\n",
    "        # Enrich entry\n",
    "        entry[\"generated_response\"] = response\n",
    "        entry[\"retrieved_chunk_contexts\"] = retrieved_chunk_contexts\n",
    "        entry[\"retrieved_chunk_ids\"] = retrieved_chunk_ids\n",
    "        entry[\"retrieved_chunk_indices\"] = retrieved_chunk_indices\n",
    "\n",
    "        enriched_dataset.append(entry)\n",
    "\n",
    "    # Dateinamen-Logik\n",
    "    filename = eval_dataset.split(\"/\")[-1].replace(\".json\", \"\")\n",
    "    output_path = f\"eval_datasets/{filename}_{consistency_type}_consistency_enriched.json\"\n",
    "\n",
    "    with open(output_path, \"w\", encoding=\"utf-8\") as f:\n",
    "        json.dump(enriched_dataset, f, indent=2, ensure_ascii=False)\n",
    "\n",
    "    return output_path\n"
   ]
  },
  {
   "cell_type": "code",
   "execution_count": 16,
   "id": "a361a0df",
   "metadata": {},
   "outputs": [
    {
     "name": "stderr",
     "output_type": "stream",
     "text": [
      "Generating consistent RAG responses: 100%|██████████| 50/50 [18:23<00:00, 22.07s/it]\n"
     ]
    }
   ],
   "source": [
    "enriched_datasets = []\n",
    "\n",
    "# Self-Consistency \n",
    "enriched_datasets.append(enrich_eval_dataset_with_rag_responses_consistency(\n",
    "        eval_dataset=eval_dataset_self_and_cross_consistency,\n",
    "        chroma_path=chroma_db_self_and_cross_consistency,\n",
    "        consistency_type= \"self\",\n",
    "        model_name=\"gpt-4o-mini\"\n",
    "    ))"
   ]
  },
  {
   "cell_type": "code",
   "execution_count": 17,
   "id": "b748b623",
   "metadata": {},
   "outputs": [
    {
     "name": "stderr",
     "output_type": "stream",
     "text": [
      "Generating consistent RAG responses:   4%|▍         | 2/50 [03:08<1:17:19, 96.65s/it]"
     ]
    },
    {
     "name": "stdout",
     "output_type": "stream",
     "text": [
      "❌ Fehler bei Together API: Error code: 422 - {\"message\": \"Input validation error: `inputs` tokens + `max_new_tokens` must be <= 8193. Given: 8039 `inputs` tokens and 200 `max_new_tokens`\", \"type_\": \"invalid_request_error\"}\n",
      "❌ Fehler bei Together API: Error code: 422 - {\"message\": \"Input validation error: `inputs` tokens + `max_new_tokens` must be <= 8193. Given: 8010 `inputs` tokens and 200 `max_new_tokens`\", \"type_\": \"invalid_request_error\"}\n"
     ]
    },
    {
     "name": "stderr",
     "output_type": "stream",
     "text": [
      "Generating consistent RAG responses:  28%|██▊       | 14/50 [21:56<59:35, 99.31s/it]  "
     ]
    },
    {
     "name": "stdout",
     "output_type": "stream",
     "text": [
      "❌ Fehler bei Together API: Error code: 422 - {\"message\": \"Input validation error: `inputs` tokens + `max_new_tokens` must be <= 8193. Given: 8303 `inputs` tokens and 200 `max_new_tokens`\", \"type_\": \"invalid_request_error\"}\n",
      "❌ Fehler bei Together API: Error code: 422 - {\"message\": \"Input validation error: `inputs` tokens + `max_new_tokens` must be <= 8193. Given: 8274 `inputs` tokens and 200 `max_new_tokens`\", \"type_\": \"invalid_request_error\"}\n"
     ]
    },
    {
     "name": "stderr",
     "output_type": "stream",
     "text": [
      "Generating consistent RAG responses:  40%|████      | 20/50 [30:58<48:51, 97.71s/it]"
     ]
    },
    {
     "name": "stdout",
     "output_type": "stream",
     "text": [
      "❌ Fehler bei Together API: Error code: 422 - {\"message\": \"Input validation error: `inputs` tokens + `max_new_tokens` must be <= 8193. Given: 8101 `inputs` tokens and 200 `max_new_tokens`\", \"type_\": \"invalid_request_error\"}\n",
      "❌ Fehler bei Together API: Error code: 422 - {\"message\": \"Input validation error: `inputs` tokens + `max_new_tokens` must be <= 8193. Given: 8072 `inputs` tokens and 200 `max_new_tokens`\", \"type_\": \"invalid_request_error\"}\n"
     ]
    },
    {
     "name": "stderr",
     "output_type": "stream",
     "text": [
      "Generating consistent RAG responses:  42%|████▏     | 21/50 [31:35<38:24, 79.46s/it]"
     ]
    },
    {
     "name": "stdout",
     "output_type": "stream",
     "text": [
      "❌ Fehler bei Together API: Error code: 422 - {\"message\": \"Input validation error: `inputs` tokens + `max_new_tokens` must be <= 8193. Given: 8089 `inputs` tokens and 200 `max_new_tokens`\", \"type_\": \"invalid_request_error\"}\n",
      "❌ Fehler bei Together API: Error code: 422 - {\"message\": \"Input validation error: `inputs` tokens + `max_new_tokens` must be <= 8193. Given: 8060 `inputs` tokens and 200 `max_new_tokens`\", \"type_\": \"invalid_request_error\"}\n"
     ]
    },
    {
     "name": "stderr",
     "output_type": "stream",
     "text": [
      "Generating consistent RAG responses:  70%|███████   | 35/50 [53:18<24:46, 99.07s/it]"
     ]
    },
    {
     "name": "stdout",
     "output_type": "stream",
     "text": [
      "❌ Fehler bei Together API: Error code: 422 - {\"message\": \"Input validation error: `inputs` tokens + `max_new_tokens` must be <= 8193. Given: 8289 `inputs` tokens and 200 `max_new_tokens`\", \"type_\": \"invalid_request_error\"}\n",
      "❌ Fehler bei Together API: Error code: 422 - {\"message\": \"Input validation error: `inputs` tokens + `max_new_tokens` must be <= 8193. Given: 8260 `inputs` tokens and 200 `max_new_tokens`\", \"type_\": \"invalid_request_error\"}\n"
     ]
    },
    {
     "name": "stderr",
     "output_type": "stream",
     "text": [
      "Generating consistent RAG responses:  84%|████████▍ | 42/50 [1:02:14<12:08, 91.06s/it]"
     ]
    },
    {
     "name": "stdout",
     "output_type": "stream",
     "text": [
      "❌ Fehler bei Together API: Error code: 422 - {\"message\": \"Input validation error: `inputs` tokens + `max_new_tokens` must be <= 8193. Given: 8204 `inputs` tokens and 200 `max_new_tokens`\", \"type_\": \"invalid_request_error\"}\n",
      "❌ Fehler bei Together API: Error code: 422 - {\"message\": \"Input validation error: `inputs` tokens + `max_new_tokens` must be <= 8193. Given: 8175 `inputs` tokens and 200 `max_new_tokens`\", \"type_\": \"invalid_request_error\"}\n"
     ]
    },
    {
     "name": "stderr",
     "output_type": "stream",
     "text": [
      "Generating consistent RAG responses:  88%|████████▊ | 44/50 [1:04:54<08:43, 87.21s/it]"
     ]
    },
    {
     "name": "stdout",
     "output_type": "stream",
     "text": [
      "❌ Fehler bei Together API: Error code: 422 - {\"message\": \"Input validation error: `inputs` tokens + `max_new_tokens` must be <= 8193. Given: 8157 `inputs` tokens and 200 `max_new_tokens`\", \"type_\": \"invalid_request_error\"}\n",
      "❌ Fehler bei Together API: Error code: 422 - {\"message\": \"Input validation error: `inputs` tokens + `max_new_tokens` must be <= 8193. Given: 8128 `inputs` tokens and 200 `max_new_tokens`\", \"type_\": \"invalid_request_error\"}\n"
     ]
    },
    {
     "name": "stderr",
     "output_type": "stream",
     "text": [
      "Generating consistent RAG responses:  96%|█████████▌| 48/50 [1:11:44<03:22, 101.07s/it]"
     ]
    },
    {
     "name": "stdout",
     "output_type": "stream",
     "text": [
      "❌ Fehler bei Together API: Error code: 422 - {\"message\": \"Input validation error: `inputs` tokens + `max_new_tokens` must be <= 8193. Given: 8020 `inputs` tokens and 200 `max_new_tokens`\", \"type_\": \"invalid_request_error\"}\n"
     ]
    },
    {
     "name": "stderr",
     "output_type": "stream",
     "text": [
      "Generating consistent RAG responses: 100%|██████████| 50/50 [1:14:59<00:00, 90.00s/it] \n"
     ]
    }
   ],
   "source": [
    "# Cross-Consistency \n",
    "enriched_datasets.append(enrich_eval_dataset_with_rag_responses_consistency(\n",
    "        eval_dataset=eval_dataset_self_and_cross_consistency,\n",
    "        chroma_path=chroma_db_self_and_cross_consistency,\n",
    "        consistency_type= \"cross\",\n",
    "        model_name=\"gpt-4o-mini\"\n",
    "    ))"
   ]
  },
  {
   "cell_type": "markdown",
   "id": "079bde0f",
   "metadata": {},
   "source": [
    "#### 4.3. Evaluate Retrieval & Generation"
   ]
  },
  {
   "cell_type": "code",
   "execution_count": 18,
   "id": "16656d95",
   "metadata": {},
   "outputs": [
    {
     "name": "stdout",
     "output_type": "stream",
     "text": [
      "artificial_evaluation_dataset_for_chroma_chunksize1024_overlap128_c800ccc6_self_cross_consistency_self_consistency_enriched.json\n",
      "optimal_post_retrieval_reranking_1_artificial_evaluation_dataset_for_chroma_chunksize1024_overlap128_c800ccc6_self_cross_consistency_self_consistency_enriched.json\n",
      "artificial_evaluation_dataset_for_chroma_chunksize1024_overlap128_c800ccc6_self_cross_consistency_cross_consistency_enriched.json\n",
      "optimal_post_retrieval_reranking_2_artificial_evaluation_dataset_for_chroma_chunksize1024_overlap128_c800ccc6_self_cross_consistency_cross_consistency_enriched.json\n"
     ]
    }
   ],
   "source": [
    "for index, dataset in enumerate(enriched_datasets): \n",
    "    json_filename = dataset.split(\"/\")[-1]\n",
    "    model_name = f\"optimal_post_retrieval_reranking_{index+1}_{json_filename.replace('retrieval_eval_dataset_for_', '').replace('_rag_enriched.json', '')}\"  \n",
    "    print(json_filename)\n",
    "    print(model_name)"
   ]
  },
  {
   "cell_type": "code",
   "execution_count": 20,
   "id": "b1918558",
   "metadata": {},
   "outputs": [
    {
     "name": "stdout",
     "output_type": "stream",
     "text": [
      "['eval_datasets/artificial_evaluation_dataset_for_chroma_chunksize1024_overlap128_c800ccc6_self_cross_consistency_self_consistency_enriched.json', 'eval_datasets/artificial_evaluation_dataset_for_chroma_chunksize1024_overlap128_c800ccc6_self_cross_consistency_cross_consistency_enriched.json']\n"
     ]
    }
   ],
   "source": [
    "print(enriched_datasets)"
   ]
  },
  {
   "cell_type": "code",
   "execution_count": null,
   "id": "1e93f12d",
   "metadata": {},
   "outputs": [],
   "source": [
    "enriched_datasets = [\n",
    "    'eval_datasets/6_self_cross_consistency/artificial_evaluation_dataset_for_chroma_chunksize1024_overlap128_c800ccc6_self_consistency_enriched.json',\n",
    "    'eval_datasets/6_self_cross_consistency/artificial_evaluation_dataset_for_chroma_chunksize1024_overlap128_c800ccc6_cross_consistency_enriched.json'\n",
    "]\n"
   ]
  },
  {
   "cell_type": "code",
   "execution_count": 22,
   "id": "c197200d",
   "metadata": {},
   "outputs": [
    {
     "name": "stdout",
     "output_type": "stream",
     "text": [
      "\n",
      "Evaluating optimal_self_cross_consistency_1_self_consistency_enriched.json using dataset 6_self_cross_consistency/artificial_evaluation_dataset_for_chroma_chunksize1024_overlap128_c800ccc6_self_consistency_enriched.json...\n",
      "→ Calculation: Mean Recall@k\n"
     ]
    },
    {
     "name": "stderr",
     "output_type": "stream",
     "text": [
      "100%|██████████| 50/50 [00:00<?, ?it/s]\n"
     ]
    },
    {
     "name": "stdout",
     "output_type": "stream",
     "text": [
      "→ Calculation: Mean Reciprocal Rank\n"
     ]
    },
    {
     "name": "stderr",
     "output_type": "stream",
     "text": [
      "100%|██████████| 50/50 [00:00<00:00, 50063.31it/s]\n"
     ]
    },
    {
     "name": "stdout",
     "output_type": "stream",
     "text": [
      "→ Calculation: Mean Average Precision\n"
     ]
    },
    {
     "name": "stderr",
     "output_type": "stream",
     "text": [
      "100%|██████████| 50/50 [00:00<00:00, 50051.36it/s]\n"
     ]
    },
    {
     "name": "stdout",
     "output_type": "stream",
     "text": [
      "→ Calculation: Mean Context Precision Using Ragas with Reference and NonLLM-Based\n"
     ]
    },
    {
     "name": "stderr",
     "output_type": "stream",
     "text": [
      "100%|██████████| 50/50 [00:01<00:00, 44.05it/s]\n"
     ]
    },
    {
     "name": "stdout",
     "output_type": "stream",
     "text": [
      "→ Calculation: Mean Context Recall Using Ragas with NonLLM-Based\n"
     ]
    },
    {
     "name": "stderr",
     "output_type": "stream",
     "text": [
      "100%|██████████| 50/50 [00:01<00:00, 43.01it/s]\n"
     ]
    },
    {
     "name": "stdout",
     "output_type": "stream",
     "text": [
      "→ Calculation: Mean ROUGE Scores (Rouge1, Rouge2, RougeL)\n"
     ]
    },
    {
     "name": "stderr",
     "output_type": "stream",
     "text": [
      "100%|██████████| 50/50 [00:00<00:00, 69.92it/s]\n"
     ]
    },
    {
     "name": "stdout",
     "output_type": "stream",
     "text": [
      "→ Calculation: BERTScore (Precision, Recall, F1)\n"
     ]
    },
    {
     "name": "stderr",
     "output_type": "stream",
     "text": [
      "Preparing BERTScore input: 100%|██████████| 50/50 [00:00<?, ?it/s]\n"
     ]
    },
    {
     "name": "stdout",
     "output_type": "stream",
     "text": [
      "calculating scores...\n",
      "computing bert embedding.\n"
     ]
    },
    {
     "name": "stderr",
     "output_type": "stream",
     "text": [
      "100%|██████████| 2/2 [00:24<00:00, 12.44s/it]\n"
     ]
    },
    {
     "name": "stdout",
     "output_type": "stream",
     "text": [
      "computing greedy matching.\n"
     ]
    },
    {
     "name": "stderr",
     "output_type": "stream",
     "text": [
      "100%|██████████| 1/1 [00:00<00:00,  7.00it/s]\n"
     ]
    },
    {
     "name": "stdout",
     "output_type": "stream",
     "text": [
      "done in 25.03 seconds, 2.00 sentences/sec\n",
      "→ Calculation: Mean BLEU Score\n"
     ]
    },
    {
     "name": "stderr",
     "output_type": "stream",
     "text": [
      "100%|██████████| 50/50 [00:00<00:00, 342.22it/s]\n"
     ]
    },
    {
     "name": "stdout",
     "output_type": "stream",
     "text": [
      "→ Calculation: Mean METEOR Score\n"
     ]
    },
    {
     "name": "stderr",
     "output_type": "stream",
     "text": [
      "100%|██████████| 50/50 [00:05<00:00,  9.56it/s]\n"
     ]
    },
    {
     "name": "stdout",
     "output_type": "stream",
     "text": [
      "\n",
      "Evaluating optimal_self_cross_consistency_2_cross_consistency_enriched.json using dataset 6_self_cross_consistency/artificial_evaluation_dataset_for_chroma_chunksize1024_overlap128_c800ccc6_cross_consistency_enriched.json...\n",
      "→ Calculation: Mean Recall@k\n"
     ]
    },
    {
     "name": "stderr",
     "output_type": "stream",
     "text": [
      "100%|██████████| 50/50 [00:00<?, ?it/s]\n"
     ]
    },
    {
     "name": "stdout",
     "output_type": "stream",
     "text": [
      "→ Calculation: Mean Reciprocal Rank\n"
     ]
    },
    {
     "name": "stderr",
     "output_type": "stream",
     "text": [
      "100%|██████████| 50/50 [00:00<?, ?it/s]\n"
     ]
    },
    {
     "name": "stdout",
     "output_type": "stream",
     "text": [
      "→ Calculation: Mean Average Precision\n"
     ]
    },
    {
     "name": "stderr",
     "output_type": "stream",
     "text": [
      "100%|██████████| 50/50 [00:00<?, ?it/s]\n"
     ]
    },
    {
     "name": "stdout",
     "output_type": "stream",
     "text": [
      "→ Calculation: Mean Context Precision Using Ragas with Reference and NonLLM-Based\n"
     ]
    },
    {
     "name": "stderr",
     "output_type": "stream",
     "text": [
      "100%|██████████| 50/50 [00:00<00:00, 53.32it/s]\n"
     ]
    },
    {
     "name": "stdout",
     "output_type": "stream",
     "text": [
      "→ Calculation: Mean Context Recall Using Ragas with NonLLM-Based\n"
     ]
    },
    {
     "name": "stderr",
     "output_type": "stream",
     "text": [
      "100%|██████████| 50/50 [00:01<00:00, 49.35it/s]\n"
     ]
    },
    {
     "name": "stdout",
     "output_type": "stream",
     "text": [
      "→ Calculation: Mean ROUGE Scores (Rouge1, Rouge2, RougeL)\n"
     ]
    },
    {
     "name": "stderr",
     "output_type": "stream",
     "text": [
      "100%|██████████| 50/50 [00:00<00:00, 97.55it/s] \n"
     ]
    },
    {
     "name": "stdout",
     "output_type": "stream",
     "text": [
      "→ Calculation: BERTScore (Precision, Recall, F1)\n"
     ]
    },
    {
     "name": "stderr",
     "output_type": "stream",
     "text": [
      "Preparing BERTScore input: 100%|██████████| 50/50 [00:00<?, ?it/s]\n"
     ]
    },
    {
     "name": "stdout",
     "output_type": "stream",
     "text": [
      "calculating scores...\n",
      "computing bert embedding.\n"
     ]
    },
    {
     "name": "stderr",
     "output_type": "stream",
     "text": [
      "100%|██████████| 2/2 [00:26<00:00, 13.43s/it]\n"
     ]
    },
    {
     "name": "stdout",
     "output_type": "stream",
     "text": [
      "computing greedy matching.\n"
     ]
    },
    {
     "name": "stderr",
     "output_type": "stream",
     "text": [
      "100%|██████████| 1/1 [00:00<00:00,  8.56it/s]\n"
     ]
    },
    {
     "name": "stdout",
     "output_type": "stream",
     "text": [
      "done in 26.97 seconds, 1.85 sentences/sec\n",
      "→ Calculation: Mean BLEU Score\n"
     ]
    },
    {
     "name": "stderr",
     "output_type": "stream",
     "text": [
      "100%|██████████| 50/50 [00:00<00:00, 311.91it/s]\n"
     ]
    },
    {
     "name": "stdout",
     "output_type": "stream",
     "text": [
      "→ Calculation: Mean METEOR Score\n"
     ]
    },
    {
     "name": "stderr",
     "output_type": "stream",
     "text": [
      "100%|██████████| 50/50 [00:00<00:00, 179.48it/s]\n"
     ]
    }
   ],
   "source": [
    "evaluation_results_optimal_chunking = {}\n",
    "generation_results_optimal_chunking = {}\n",
    "\n",
    "for index, dataset in enumerate(enriched_datasets):\n",
    "    json_filename = dataset.split(\"/\")[-1]\n",
    "    model_name = f\"optimal_post_retrieval_reranking_{index+1}_{json_filename.replace('retrieval_eval_dataset_for_', '').replace('_rag_enriched.json', '')}\"  \n",
    "\n",
    "\n",
    "    json_filename = f\"6_self_cross_consistency/{dataset.split('/')[-1]}\"\n",
    "    model_name = f\"optimal_self_cross_consistency_{index+1}_{json_filename.replace('6_self_cross_consistency/artificial_evaluation_dataset_for_chroma_chunksize1024_overlap128_c800ccc6_', '').replace('_rag_enriched.json', '')}\"  \n",
    "    \n",
    "\n",
    "    print(f\"\\nEvaluating {model_name} using dataset {json_filename}...\")\n",
    "\n",
    "    retrieval_result = run_retrieval_evaluation(\n",
    "        json_filename=json_filename,\n",
    "        model_name=model_name\n",
    "    )\n",
    "\n",
    "    generation_result = run_generation_evaluation(\n",
    "        json_filename=json_filename,\n",
    "        model_name=model_name\n",
    "    )\n",
    "\n",
    "    evaluation_results_optimal_chunking[model_name] = retrieval_result\n",
    "    generation_results_optimal_chunking[model_name] = generation_result"
   ]
  },
  {
   "cell_type": "code",
   "execution_count": 23,
   "id": "518465b7",
   "metadata": {},
   "outputs": [
    {
     "name": "stdout",
     "output_type": "stream",
     "text": [
      "🔍 Found 2 retrieval files.\n",
      "🔍 Found 2 generation files.\n",
      "✅ Retrieval results saved to: eval_results\\6_self_cross_consistency\\combined_self_cross_consistency_retrieval_evaluation.csv\n",
      "✅ Generation results saved to: eval_results\\6_self_cross_consistency\\combined_self_cross_consistency_evaluation.csv\n"
     ]
    }
   ],
   "source": [
    "from pathlib import Path\n",
    "import pandas as pd\n",
    "\n",
    "# Define base folder and file patterns\n",
    "folder_path = Path(\"eval_results\") / \"6_self_cross_consistency\"\n",
    "pattern_retrieval = \"optimal_self_cross_consistency*retrieval_evaluation.csv\"\n",
    "pattern_generation = \"optimal_self_cross_consistency*generation_evaluation.csv\"\n",
    "\n",
    "# Find matching CSV files\n",
    "csv_retrieval_files = list(folder_path.glob(pattern_retrieval))\n",
    "csv_generation_files = list(folder_path.glob(pattern_generation))\n",
    "\n",
    "print(f\"🔍 Found {len(csv_retrieval_files)} retrieval files.\")\n",
    "print(f\"🔍 Found {len(csv_generation_files)} generation files.\")\n",
    "\n",
    "# Load and combine retrieval evaluation files\n",
    "df_retrieval = [pd.read_csv(f) for f in csv_retrieval_files]\n",
    "df_generation = [pd.read_csv(f) for f in csv_generation_files]\n",
    "\n",
    "# Concatenate if there is at least one file\n",
    "if df_retrieval:\n",
    "    combined_df_retrieval = pd.concat(df_retrieval, ignore_index=True)\n",
    "    output_path_retrieval = folder_path / \"combined_self_cross_consistency_retrieval_evaluation.csv\"\n",
    "    combined_df_retrieval.to_csv(output_path_retrieval, index=False)\n",
    "    print(f\"✅ Retrieval results saved to: {output_path_retrieval}\")\n",
    "else:\n",
    "    print(\"⚠️ No retrieval CSV files found.\")\n",
    "\n",
    "if df_generation:\n",
    "    combined_df_generation = pd.concat(df_generation, ignore_index=True)\n",
    "    output_path_generation = folder_path / \"combined_self_cross_consistency_evaluation.csv\"\n",
    "    combined_df_generation.to_csv(output_path_generation, index=False)\n",
    "    print(f\"✅ Generation results saved to: {output_path_generation}\")\n",
    "else:\n",
    "    print(\"⚠️ No generation CSV files found.\")\n"
   ]
  }
 ],
 "metadata": {
  "kernelspec": {
   "display_name": ".venv",
   "language": "python",
   "name": "python3"
  },
  "language_info": {
   "codemirror_mode": {
    "name": "ipython",
    "version": 3
   },
   "file_extension": ".py",
   "mimetype": "text/x-python",
   "name": "python",
   "nbconvert_exporter": "python",
   "pygments_lexer": "ipython3",
   "version": "3.10.11"
  }
 },
 "nbformat": 4,
 "nbformat_minor": 5
}
